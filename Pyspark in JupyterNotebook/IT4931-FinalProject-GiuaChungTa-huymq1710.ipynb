{
 "cells": [
  {
   "cell_type": "code",
   "execution_count": 1,
   "metadata": {},
   "outputs": [],
   "source": [
    "# import libraries\n",
    "import numpy as np\n",
    "import pandas as pd\n",
    "\n",
    "import matplotlib.pyplot as plt\n",
    "import seaborn as sns\n",
    "sns.set_color_codes(\"pastel\")\n",
    "sns.set_style(\"whitegrid\")\n",
    "%matplotlib inline"
   ]
  },
  {
   "cell_type": "code",
   "execution_count": 2,
   "metadata": {},
   "outputs": [],
   "source": [
    "from pyspark.sql import SparkSession, Window\n",
    "\n",
    "from pyspark.sql.functions import udf\n",
    "from pyspark.sql.types import StringType\n",
    "from pyspark.sql.types import IntegerType\n",
    "from pyspark.sql.functions import sum as Fsum\n",
    "from pyspark.sql.functions import min as Fmin\n",
    "from pyspark.sql.functions import max as Fmax\n",
    "from pyspark.sql.functions import avg, col, concat, count, desc, asc, explode, lit, split, stddev, udf, isnan, when, rank, from_unixtime\n",
    "\n",
    "from pyspark.ml import Pipeline\n",
    "from pyspark.ml.feature import MinMaxScaler, VectorAssembler\n",
    "from pyspark.ml.classification import LogisticRegression, RandomForestClassifier, GBTClassifier\n",
    "from pyspark.ml.evaluation import BinaryClassificationEvaluator, MulticlassClassificationEvaluator\n",
    "from pyspark.ml.tuning import CrossValidator, ParamGridBuilder\n"
   ]
  },
  {
   "cell_type": "code",
   "execution_count": 4,
   "metadata": {},
   "outputs": [],
   "source": [
    "# Create spark session\n",
    "spark = SparkSession \\\n",
    "    .builder \\\n",
    "    .appName(\"final-project-IT4931\") \\\n",
    "    .getOrCreate()"
   ]
  },
  {
   "cell_type": "code",
   "execution_count": 7,
   "metadata": {},
   "outputs": [],
   "source": [
    "# Read in full sparkify dataset\n",
    "event_data = \"hdfs:///hadoop-master/home/huymac/012019.json\"\n",
    "df = spark.read.json(event_data)"
   ]
  },
  {
   "cell_type": "code",
   "execution_count": 8,
   "metadata": {},
   "outputs": [
    {
     "data": {
      "text/plain": [
       "[Row(_corrupt_record=None, artist='Martin Orford', auth='Logged In', firstName='Joseph', gender='M', itemInSession=20, lastName='Morales', length=597.55057, level='free', location='Corpus Christi, TX', method='PUT', page='NextSong', registration=1532063507000, sessionId=292, song='Grand Designs', status=200, ts=1038352011000, userAgent='\"Mozilla/5.0 (Macintosh; Intel Mac OS X 10_9_4) AppleWebKit/537.36 (KHTML, like Gecko) Chrome/36.0.1985.125 Safari/537.36\"', userId='293'),\n",
       " Row(_corrupt_record=None, artist=\"John Brown's Body\", auth='Logged In', firstName='Sawyer', gender='M', itemInSession=74, lastName='Larson', length=380.21179, level='free', location='Houston-The Woodlands-Sugar Land, TX', method='PUT', page='NextSong', registration=1538069638000, sessionId=97, song='Bulls', status=200, ts=1038352025000, userAgent='\"Mozilla/5.0 (Macintosh; Intel Mac OS X 10_9_4) AppleWebKit/537.36 (KHTML, like Gecko) Chrome/36.0.1985.143 Safari/537.36\"', userId='98'),\n",
       " Row(_corrupt_record=None, artist='Afroman', auth='Logged In', firstName='Maverick', gender='M', itemInSession=184, lastName='Santiago', length=202.37016, level='paid', location='Orlando-Kissimmee-Sanford, FL', method='PUT', page='NextSong', registration=1535953455000, sessionId=178, song='Because I Got High', status=200, ts=1038352118000, userAgent='\"Mozilla/5.0 (Macintosh; Intel Mac OS X 10_9_4) AppleWebKit/537.36 (KHTML, like Gecko) Chrome/36.0.1985.143 Safari/537.36\"', userId='179'),\n",
       " Row(_corrupt_record=None, artist=None, auth='Logged In', firstName='Maverick', gender='M', itemInSession=185, lastName='Santiago', length=None, level='paid', location='Orlando-Kissimmee-Sanford, FL', method='PUT', page='Logout', registration=1535953455000, sessionId=178, song=None, status=307, ts=1038352119000, userAgent='\"Mozilla/5.0 (Macintosh; Intel Mac OS X 10_9_4) AppleWebKit/537.36 (KHTML, like Gecko) Chrome/36.0.1985.143 Safari/537.36\"', userId='179'),\n",
       " Row(_corrupt_record=None, artist='Lily Allen', auth='Logged In', firstName='Gianna', gender='F', itemInSession=22, lastName='Campos', length=194.53342, level='paid', location='Mobile, AL', method='PUT', page='NextSong', registration=1535931018000, sessionId=245, song='Smile (Radio Edit)', status=200, ts=1038352124000, userAgent='Mozilla/5.0 (Windows NT 6.1; WOW64; rv:31.0) Gecko/20100101 Firefox/31.0', userId='246')]"
      ]
     },
     "execution_count": 8,
     "metadata": {},
     "output_type": "execute_result"
    }
   ],
   "source": [
    "df.head(5)"
   ]
  },
  {
   "cell_type": "markdown",
   "metadata": {},
   "source": [
    "# Schema information\n",
    "\n",
    "1. artist: Artist name (ex. Daft Punk)\n",
    "2. auth: User authentication status (ex. Logged)\n",
    "3. firstName: User first name (ex. Colin)\n",
    "4. gender: Gender (ex. F or M)\n",
    "5. itemInSession: Item count in a session (ex. 52)\n",
    "6. lastName: User last name (ex. Freeman)\n",
    "7. length: Length of song (ex. 223.60771)\n",
    "8. level: User plan (ex. paid)\n",
    "9. location: User's location (ex. Bakersfield)\n",
    "10. method: HTTP method (ex. PUT)\n",
    "11. page: Page name (ex. NextSong)\n",
    "12. registration: Registration timestamp (unix timestamp) (ex. 1538173362000)\n",
    "13. sessionId: Session ID (ex. 29)\n",
    "14. song: Song (ex. Harder Better Faster Stronger)\n",
    "15. status: HTTP status (ex. 200)\n",
    "16. ts: Event timestamp(unix timestamp) (ex. 1538352676000)\n",
    "17. userAgent: User's browswer agent (ex. Mozilla/5.0 (Windows NT 6.1; WOW64; rv:31.0) Gecko/20100101 Firefox/31.0)\n",
    "18. userId: User ID (ex. 30)"
   ]
  },
  {
   "cell_type": "code",
   "execution_count": 9,
   "metadata": {},
   "outputs": [
    {
     "name": "stdout",
     "output_type": "stream",
     "text": [
      "root\n",
      " |-- _corrupt_record: string (nullable = true)\n",
      " |-- artist: string (nullable = true)\n",
      " |-- auth: string (nullable = true)\n",
      " |-- firstName: string (nullable = true)\n",
      " |-- gender: string (nullable = true)\n",
      " |-- itemInSession: long (nullable = true)\n",
      " |-- lastName: string (nullable = true)\n",
      " |-- length: double (nullable = true)\n",
      " |-- level: string (nullable = true)\n",
      " |-- location: string (nullable = true)\n",
      " |-- method: string (nullable = true)\n",
      " |-- page: string (nullable = true)\n",
      " |-- registration: long (nullable = true)\n",
      " |-- sessionId: long (nullable = true)\n",
      " |-- song: string (nullable = true)\n",
      " |-- status: long (nullable = true)\n",
      " |-- ts: long (nullable = true)\n",
      " |-- userAgent: string (nullable = true)\n",
      " |-- userId: string (nullable = true)\n",
      "\n"
     ]
    }
   ],
   "source": [
    "df.printSchema()"
   ]
  },
  {
   "cell_type": "markdown",
   "metadata": {},
   "source": [
    "# I. Thống kê, xử lý số liệu dataset user log 01/2019"
   ]
  },
  {
   "cell_type": "code",
   "execution_count": 10,
   "metadata": {},
   "outputs": [
    {
     "name": "stdout",
     "output_type": "stream",
     "text": [
      "+-------+--------------------+-----------------+----------+---------+-------+------------------+--------+------------------+-------+----------------+-------+-------+--------------------+------------------+--------------------+------------------+--------------------+--------------------+------------------+\n",
      "|summary|     _corrupt_record|           artist|      auth|firstName| gender|     itemInSession|lastName|            length|  level|        location| method|   page|        registration|         sessionId|                song|            status|                  ts|           userAgent|            userId|\n",
      "+-------+--------------------+-----------------+----------+---------+-------+------------------+--------+------------------+-------+----------------+-------+-------+--------------------+------------------+--------------------+------------------+--------------------+--------------------+------------------+\n",
      "|  count|                   1|          2301011|   2890514|  2806775|2806775|           2890514| 2806775|           2301011|2890514|         2806775|2890514|2890514|             2806775|           2890514|             2301011|           2890514|             2890514|             2806775|           2890514|\n",
      "|   mean|                null|534.7111617312073|      null|     null|   null|107.26455398590008|    null|248.69113984781708|   null|            null|   null|   null|1.535518616537312...|2003.4434802945082|                 NaN|209.99382843328212| 1.25873179821979E12|                null| 56696.86281444006|\n",
      "| stddev|                null|1006.339121913569|      null|     null|   null|  116.759552282959|    null| 98.48891812803825|   null|            null|   null|   null|3.0787264974172697E9|1408.0727200344659|                 NaN|31.438486556189275|1.542782078238627...|                null|107527.45884121717|\n",
      "|    min|{\"ts\":15406763990...|              !!!| Cancelled|  Aaliyah|      F|                 0|  Abbott|           0.78322|   free|       Akron, OH|    GET|  About|       1509854193000|                 1|\u001c",
      "ÃÂg ÃÂtti Gr...|               200|       1038352011000|\"Mozilla/5.0 (Mac...|                  |\n",
      "|    max|{\"ts\":15406763990...|ÃÂlafur Arnalds|Logged Out|   Zyonna|      M|              1005|  Wright|        3024.66567|   paid|York-Hanover, PA|    PUT|Upgrade|       1543073874000|              4808|ÃÂ¾etta Gerist Ã...|               404|       1540676397000|Mozilla/5.0 (comp...|                99|\n",
      "+-------+--------------------+-----------------+----------+---------+-------+------------------+--------+------------------+-------+----------------+-------+-------+--------------------+------------------+--------------------+------------------+--------------------+--------------------+------------------+\n",
      "\n"
     ]
    }
   ],
   "source": [
    "df.describe().show()"
   ]
  },
  {
   "cell_type": "code",
   "execution_count": 11,
   "metadata": {},
   "outputs": [
    {
     "name": "stdout",
     "output_type": "stream",
     "text": [
      "+-------+-----------------+\n",
      "|summary|           artist|\n",
      "+-------+-----------------+\n",
      "|  count|          2301011|\n",
      "|   mean|534.7111617312073|\n",
      "| stddev|1006.339121913569|\n",
      "|    min|              !!!|\n",
      "|    max|ÃÂlafur Arnalds|\n",
      "+-------+-----------------+\n",
      "\n"
     ]
    }
   ],
   "source": [
    "df.describe('artist').show()"
   ]
  },
  {
   "cell_type": "code",
   "execution_count": 12,
   "metadata": {},
   "outputs": [
    {
     "name": "stdout",
     "output_type": "stream",
     "text": [
      "+-------+------------------+\n",
      "|summary|            userId|\n",
      "+-------+------------------+\n",
      "|  count|           2890514|\n",
      "|   mean| 56696.86281444006|\n",
      "| stddev|107527.45884121717|\n",
      "|    min|                  |\n",
      "|    max|                99|\n",
      "+-------+------------------+\n",
      "\n"
     ]
    }
   ],
   "source": [
    "df.describe('userId').show()"
   ]
  },
  {
   "cell_type": "code",
   "execution_count": 13,
   "metadata": {},
   "outputs": [
    {
     "data": {
      "text/plain": [
       "2890515"
      ]
     },
     "execution_count": 13,
     "metadata": {},
     "output_type": "execute_result"
    }
   ],
   "source": [
    "# Tổng số row\n",
    "df.count()"
   ]
  },
  {
   "cell_type": "markdown",
   "metadata": {},
   "source": [
    "Tất cả các page events trong dataset\n",
    "- About\n",
    "- Add Friend\n",
    "- Add to Playlist\n",
    "- Cancel\n",
    "- #### Cancellation Confirmation ####\n",
    "- Downgrade\n",
    "- Error\n",
    "- Help\n",
    "- Home\n",
    "- Login\n",
    "- Logout\n",
    "- NextSong\n",
    "- Register\n",
    "- Roll Advert\n",
    "- Save Settings\n",
    "- Settings\n",
    "- Submit Downgrade\n",
    "- Submit Registration\n",
    "- Submit Upgrade\n",
    "- Thumbs Down\n",
    "- Thumbs Up\n",
    "- Upgrade"
   ]
  },
  {
   "cell_type": "code",
   "execution_count": 14,
   "metadata": {},
   "outputs": [
    {
     "name": "stdout",
     "output_type": "stream",
     "text": [
      "+--------------------+\n",
      "|                page|\n",
      "+--------------------+\n",
      "|                null|\n",
      "|               About|\n",
      "|          Add Friend|\n",
      "|     Add to Playlist|\n",
      "|              Cancel|\n",
      "|Cancellation Conf...|\n",
      "|           Downgrade|\n",
      "|               Error|\n",
      "|                Help|\n",
      "|                Home|\n",
      "|               Login|\n",
      "|              Logout|\n",
      "|            NextSong|\n",
      "|            Register|\n",
      "|         Roll Advert|\n",
      "|       Save Settings|\n",
      "|            Settings|\n",
      "|    Submit Downgrade|\n",
      "| Submit Registration|\n",
      "|      Submit Upgrade|\n",
      "+--------------------+\n",
      "only showing top 20 rows\n",
      "\n"
     ]
    }
   ],
   "source": [
    "df.select(\"page\").dropDuplicates().sort(\"page\").show()"
   ]
  },
  {
   "cell_type": "markdown",
   "metadata": {},
   "source": [
    "## Bỏ các dòng bị thiếu giá trị ##"
   ]
  },
  {
   "cell_type": "code",
   "execution_count": 26,
   "metadata": {},
   "outputs": [
    {
     "data": {
      "text/plain": [
       "589504"
      ]
     },
     "execution_count": 26,
     "metadata": {},
     "output_type": "execute_result"
    }
   ],
   "source": [
    "df.filter((isnan(df[\"artist\"])) | (df[\"artist\"].isNull()) | (df[\"artist\"] == \"\")).count()"
   ]
  },
  {
   "cell_type": "code",
   "execution_count": 27,
   "metadata": {},
   "outputs": [
    {
     "data": {
      "text/plain": [
       "83740"
      ]
     },
     "execution_count": 27,
     "metadata": {},
     "output_type": "execute_result"
    }
   ],
   "source": [
    "df.filter((isnan(df[\"userId\"])) | (df[\"userId\"].isNull()) | (df[\"userId\"] == \"\")).count()"
   ]
  },
  {
   "cell_type": "code",
   "execution_count": 28,
   "metadata": {},
   "outputs": [
    {
     "data": {
      "text/plain": [
       "1"
      ]
     },
     "execution_count": 28,
     "metadata": {},
     "output_type": "execute_result"
    }
   ],
   "source": [
    "df.filter((isnan(df[\"sessionId\"])) | (df[\"sessionId\"].isNull()) | (df[\"sessionId\"] == \"\")).count()"
   ]
  },
  {
   "cell_type": "code",
   "execution_count": 29,
   "metadata": {},
   "outputs": [],
   "source": [
    "df_without_missing_id = df.dropna(how = \"any\", subset = [\"userId\", \"sessionId\"])\n",
    "df_without_missing_id = df_without_missing_id.filter(df[\"userId\"] != \"\") # `userId` không thể là string rỗng"
   ]
  },
  {
   "cell_type": "code",
   "execution_count": 30,
   "metadata": {},
   "outputs": [
    {
     "name": "stdout",
     "output_type": "stream",
     "text": [
      "df:                    2890515\n",
      "df_without_missing_id: 2806775\n",
      "83740 rows have been removed.\n"
     ]
    }
   ],
   "source": [
    "print(\"df:                    {}\".format(df.count()))\n",
    "print(\"df_without_missing_id: {}\".format(df_without_missing_id.count())) # no missing values\n",
    "\n",
    "if df.count() == df_without_missing_id.count():\n",
    "    print(\"No missing values with userId and sessionId\")\n",
    "else:\n",
    "    print(\"{} rows have been removed.\".format(df.count() - df_without_missing_id.count()))"
   ]
  },
  {
   "cell_type": "markdown",
   "metadata": {},
   "source": [
    "# II. Phân tích dữ liệu"
   ]
  },
  {
   "cell_type": "markdown",
   "metadata": {},
   "source": [
    "Phân ra các cột có dữ liệu số, và cột có dữ liệu chuỗi\n",
    "- num_cols: Long or Double\n",
    "- cat_cols: String"
   ]
  },
  {
   "cell_type": "code",
   "execution_count": 31,
   "metadata": {},
   "outputs": [],
   "source": [
    "num_cols = []\n",
    "cat_cols = []\n",
    "\n",
    "for s in df.schema:\n",
    "    data_type = str(s.dataType)\n",
    "    if data_type == \"StringType\":\n",
    "        cat_cols.append(s.name)\n",
    "    \n",
    "    if data_type == \"LongType\" or data_type == \"DoubleType\":\n",
    "        num_cols.append(s.name)"
   ]
  },
  {
   "cell_type": "code",
   "execution_count": 32,
   "metadata": {},
   "outputs": [
    {
     "data": {
      "text/plain": [
       "['itemInSession', 'length', 'registration', 'sessionId', 'status', 'ts']"
      ]
     },
     "execution_count": 32,
     "metadata": {},
     "output_type": "execute_result"
    }
   ],
   "source": [
    "num_cols"
   ]
  },
  {
   "cell_type": "code",
   "execution_count": 33,
   "metadata": {},
   "outputs": [
    {
     "data": {
      "text/plain": [
       "['_corrupt_record',\n",
       " 'artist',\n",
       " 'auth',\n",
       " 'firstName',\n",
       " 'gender',\n",
       " 'lastName',\n",
       " 'level',\n",
       " 'location',\n",
       " 'method',\n",
       " 'page',\n",
       " 'song',\n",
       " 'userAgent',\n",
       " 'userId']"
      ]
     },
     "execution_count": 33,
     "metadata": {},
     "output_type": "execute_result"
    }
   ],
   "source": [
    "cat_cols"
   ]
  },
  {
   "cell_type": "markdown",
   "metadata": {},
   "source": [
    "## Number columns ##"
   ]
  },
  {
   "cell_type": "code",
   "execution_count": 34,
   "metadata": {},
   "outputs": [
    {
     "name": "stdout",
     "output_type": "stream",
     "text": [
      "+-------+------------------+------------------+--------------------+------------------+------------------+--------------------+\n",
      "|summary|     itemInSession|            length|        registration|         sessionId|            status|                  ts|\n",
      "+-------+------------------+------------------+--------------------+------------------+------------------+--------------------+\n",
      "|  count|           2806775|           2301011|             2806775|           2806775|           2806775|             2806775|\n",
      "|   mean| 107.7410066713577|248.69113984781708|1.535518616537312...|2005.6354107472098|209.06217812257842|1.258706847907921...|\n",
      "| stddev|116.89641236727498| 98.48891812803825|3.0787264974172697E9|1407.8004923615572|  30.1064168403456|1.542607590207173...|\n",
      "|    min|                 0|           0.78322|       1509854193000|                 1|               200|       1038352011000|\n",
      "|    max|              1005|        3024.66567|       1543073874000|              4808|               404|       1540676389000|\n",
      "+-------+------------------+------------------+--------------------+------------------+------------------+--------------------+\n",
      "\n"
     ]
    }
   ],
   "source": [
    "df_without_missing_id.describe(num_cols).show()"
   ]
  },
  {
   "cell_type": "code",
   "execution_count": 35,
   "metadata": {},
   "outputs": [
    {
     "name": "stdout",
     "output_type": "stream",
     "text": [
      "+------+\n",
      "|status|\n",
      "+------+\n",
      "|   307|\n",
      "|   404|\n",
      "|   200|\n",
      "+------+\n",
      "\n"
     ]
    }
   ],
   "source": [
    "df_without_missing_id.select(\"status\").dropDuplicates().show()"
   ]
  },
  {
   "cell_type": "markdown",
   "metadata": {},
   "source": [
    "## Category columns ##"
   ]
  },
  {
   "cell_type": "code",
   "execution_count": 36,
   "metadata": {},
   "outputs": [
    {
     "name": "stdout",
     "output_type": "stream",
     "text": [
      "+--------------------+\n",
      "|            location|\n",
      "+--------------------+\n",
      "|     Gainesville, FL|\n",
      "|Atlantic City-Ham...|\n",
      "|        Richmond, VA|\n",
      "|          Tucson, AZ|\n",
      "|       Oskaloosa, IA|\n",
      "|Deltona-Daytona B...|\n",
      "|San Diego-Carlsba...|\n",
      "|Cleveland-Elyria, OH|\n",
      "|         Medford, OR|\n",
      "|Kingsport-Bristol...|\n",
      "+--------------------+\n",
      "only showing top 10 rows\n",
      "\n"
     ]
    }
   ],
   "source": [
    "df_without_missing_id.select(\"location\").dropDuplicates().show(10)"
   ]
  },
  {
   "cell_type": "code",
   "execution_count": 37,
   "metadata": {},
   "outputs": [
    {
     "name": "stdout",
     "output_type": "stream",
     "text": [
      "+--------------------+\n",
      "|                page|\n",
      "+--------------------+\n",
      "|              Cancel|\n",
      "|    Submit Downgrade|\n",
      "|         Thumbs Down|\n",
      "|                Home|\n",
      "|           Downgrade|\n",
      "|         Roll Advert|\n",
      "|              Logout|\n",
      "|       Save Settings|\n",
      "|Cancellation Conf...|\n",
      "|               About|\n",
      "|            Settings|\n",
      "|     Add to Playlist|\n",
      "|          Add Friend|\n",
      "|            NextSong|\n",
      "|           Thumbs Up|\n",
      "|                Help|\n",
      "|             Upgrade|\n",
      "|               Error|\n",
      "|      Submit Upgrade|\n",
      "+--------------------+\n",
      "\n"
     ]
    }
   ],
   "source": [
    "df_without_missing_id.select(\"page\").dropDuplicates().show()"
   ]
  },
  {
   "cell_type": "markdown",
   "metadata": {},
   "source": [
    "## Định nghĩa Churn cho data analysis ##\n",
    "\n",
    "Churn => #Cancellation Confirmation# events\n",
    "https://data-fun.com/cach-tinh-ty-le-churn-rate-la-gi/"
   ]
  },
  {
   "cell_type": "code",
   "execution_count": 38,
   "metadata": {},
   "outputs": [
    {
     "name": "stdout",
     "output_type": "stream",
     "text": [
      "+---------------+------+---------+---------+------+-------------+--------+------+-----+--------------------+------+--------------------+-------------+---------+----+------+-------------+--------------------+------+\n",
      "|_corrupt_record|artist|     auth|firstName|gender|itemInSession|lastName|length|level|            location|method|                page| registration|sessionId|song|status|           ts|           userAgent|userId|\n",
      "+---------------+------+---------+---------+------+-------------+--------+------+-----+--------------------+------+--------------------+-------------+---------+----+------+-------------+--------------------+------+\n",
      "|           null|  null|Cancelled|   Olivia|     F|           40|    Carr|  null| free|      Fort Wayne, IN|   GET|Cancellation Conf...|1536758439000|      490|null|   200|1038400616000|Mozilla/5.0 (Wind...|   208|\n",
      "|           null|  null|Cancelled|  Lillian|     F|          234| Cameron|  null| paid|        Columbus, OH|   GET|Cancellation Conf...|1533472700000|      471|null|   200|1038482793000|Mozilla/5.0 (Wind...|   231|\n",
      "|           null|  null|Cancelled|     Alex|     M|          109|   Myers|  null| paid|Grand Rapids-Wyom...|   GET|Cancellation Conf...|1529995579000|      682|null|   200|1038539871000|\"Mozilla/5.0 (Win...|   236|\n",
      "|           null|  null|Cancelled|   Rafael|     M|           66|Crawford|  null| free|   Bowling Green, KY|   GET|Cancellation Conf...|1533887620000|      628|null|   200|1038592529000|\"Mozilla/5.0 (Mac...|   156|\n",
      "|           null|  null|Cancelled|     Brad|     M|          227| Stewart|  null| paid|         Roanoke, VA|   GET|Cancellation Conf...|1535619094000|      395|null|   200|1038770077000|\"Mozilla/5.0 (Win...|   271|\n",
      "|           null|  null|Cancelled|    Isaac|     M|          193|  Miller|  null| paid|Seattle-Tacoma-Be...|   GET|Cancellation Conf...|1538201832000|      862|null|   200|1038800531000|Mozilla/5.0 (Wind...|   200|\n",
      "|           null|  null|Cancelled|     Ivan|     M|            9| Sanchez|  null| free|Bridgeport-Stamfo...|   GET|Cancellation Conf...|1533575236000|     1027|null|   200|1038890895000|Mozilla/5.0 (Wind...|   130|\n",
      "|           null|  null|Cancelled|    Chloe|     M|           56|   Myers|  null| free|Tampa-St. Petersb...|   GET|Cancellation Conf...|1534370883000|      480|null|   200|1038959081000|\"Mozilla/5.0 (iPh...|   123|\n",
      "|           null|  null|Cancelled|    Alexi|     F|            7|  Warren|  null| paid|Spokane-Spokane V...|   GET|Cancellation Conf...|1532482662000|     1010|null|   200|1038987586000|Mozilla/5.0 (Wind...|    54|\n",
      "|           null|  null|Cancelled|   Payton|     F|           82|Campbell|  null| paid|Los Angeles-Long ...|   GET|Cancellation Conf...|1529027541000|     1066|null|   200|1039011456000|\"Mozilla/5.0 (Win...|    39|\n",
      "+---------------+------+---------+---------+------+-------------+--------+------+-----+--------------------+------+--------------------+-------------+---------+----+------+-------------+--------------------+------+\n",
      "only showing top 10 rows\n",
      "\n"
     ]
    }
   ],
   "source": [
    "df_without_missing_id.filter(\"page = 'Cancellation Confirmation'\").show(10)"
   ]
  },
  {
   "cell_type": "code",
   "execution_count": 39,
   "metadata": {},
   "outputs": [],
   "source": [
    "flag_churned_event = udf(lambda x: 1 if x == \"Cancellation Confirmation\" else 0, IntegerType())\n",
    "df_churned = df_without_missing_id.withColumn(\"churned\", flag_churned_event(\"page\"))"
   ]
  },
  {
   "cell_type": "markdown",
   "metadata": {},
   "source": [
    "### Tính churned rate (trên tổng event logs) ###"
   ]
  },
  {
   "cell_type": "markdown",
   "metadata": {},
   "source": [
    "![title](data:image/png;base64,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)"
   ]
  },
  {
   "cell_type": "code",
   "execution_count": 61,
   "metadata": {},
   "outputs": [
    {
     "data": {
      "image/png": "[encoded data removed]",
      "text/plain": [
       "<IPython.core.display.Image object>"
      ]
     },
     "execution_count": 61,
     "metadata": {},
     "output_type": "execute_result"
    }
   ],
   "source": [
    "from IPython.display import Image\n",
    "Image(\"/home/huymac/churn-rate.png\")"
   ]
  },
  {
   "cell_type": "code",
   "execution_count": 42,
   "metadata": {},
   "outputs": [
    {
     "name": "stdout",
     "output_type": "stream",
     "text": [
      "churned: 28.79%\n"
     ]
    }
   ],
   "source": [
    "churned_rate = df_churned.groupby(\"userId\").agg({\"churned\": \"sum\"}).select(avg(\"sum(churned)\")).collect()[0][\"avg(sum(churned))\"]\n",
    "print(\"churned: {:.2f}%\".format(churned_rate * 100))"
   ]
  },
  {
   "cell_type": "code",
   "execution_count": 45,
   "metadata": {},
   "outputs": [
    {
     "name": "stdout",
     "output_type": "stream",
     "text": [
      "+------+------+-----+---------------+------+-------------+-------+\n",
      "|userId|gender|level|           page|status|           ts|churned|\n",
      "+------+------+-----+---------------+------+-------------+-------+\n",
      "|   293|     M| free|       NextSong|   200|1038352011000|      0|\n",
      "|    98|     M| free|       NextSong|   200|1038352025000|      0|\n",
      "|   179|     M| paid|       NextSong|   200|1038352118000|      0|\n",
      "|   179|     M| paid|         Logout|   307|1038352119000|      0|\n",
      "|   246|     F| paid|       NextSong|   200|1038352124000|      0|\n",
      "|   163|     F| paid|       NextSong|   200|1038352125000|      0|\n",
      "|   179|     M| paid|           Home|   200|1038352176000|      0|\n",
      "|   175|     F| free|       NextSong|   200|1038352215000|      0|\n",
      "|   100|     M| free|           Home|   200|1038352241000|      0|\n",
      "|   100|     M| free|       NextSong|   200|1038352259000|      0|\n",
      "|   163|     F| paid|       NextSong|   200|1038352263000|      0|\n",
      "|   246|     F| paid|       NextSong|   200|1038352318000|      0|\n",
      "|   179|     M| paid|       NextSong|   200|1038352320000|      0|\n",
      "|    39|     F| free|       NextSong|   200|1038352323000|      0|\n",
      "|   163|     F| paid|      Downgrade|   200|1038352336000|      0|\n",
      "|   179|     M| paid|Add to Playlist|   200|1038352376000|      0|\n",
      "|    98|     M| free|       NextSong|   200|1038352405000|      0|\n",
      "|   175|     F| free|       NextSong|   200|1038352435000|      0|\n",
      "|    98|     M| free|    Roll Advert|   200|1038352435000|      0|\n",
      "|   100|     M| free|       NextSong|   200|1038352460000|      0|\n",
      "|   100|     M| free|    Roll Advert|   200|1038352460000|      0|\n",
      "|   179|     M| paid|       NextSong|   200|1038352484000|      0|\n",
      "|    98|     M| free|       NextSong|   200|1038352562000|      0|\n",
      "|   246|     F| paid|       NextSong|   200|1038352574000|      0|\n",
      "|    39|     F| free|       NextSong|   200|1038352574000|      0|\n",
      "|   175|     F| free|       NextSong|   200|1038352604000|      0|\n",
      "|   293|     M| free|       NextSong|   200|1038352608000|      0|\n",
      "|   163|     F| paid|       NextSong|   200|1038352620000|      0|\n",
      "|   100|     M| free|       NextSong|   200|1038352647000|      0|\n",
      "|   100|     M| free|    Roll Advert|   200|1038352650000|      0|\n",
      "+------+------+-----+---------------+------+-------------+-------+\n",
      "only showing top 30 rows\n",
      "\n"
     ]
    }
   ],
   "source": [
    "df_churned.select([\"userId\", \"gender\", \"level\", \"page\", \"status\", \"ts\", \"churned\"]).show(30)"
   ]
  },
  {
   "cell_type": "code",
   "execution_count": 46,
   "metadata": {},
   "outputs": [],
   "source": [
    "windowval = Window.partitionBy(\"userId\").orderBy(asc(\"ts\")).rangeBetween(Window.unboundedPreceding, 0)\n",
    "df_phase = df_churned.withColumn(\"phase\", Fsum('churned').over(windowval))\n",
    "df_churn = df_phase.withColumn(\"churn\", Fmax('churned').over(Window.partitionBy(\"userId\")))"
   ]
  },
  {
   "cell_type": "code",
   "execution_count": 47,
   "metadata": {},
   "outputs": [
    {
     "name": "stdout",
     "output_type": "stream",
     "text": [
      "+------+------+-----+-----------+------+-------------+-------+-----+-----+\n",
      "|userId|gender|level|       page|status|           ts|churned|phase|churn|\n",
      "+------+------+-----+-----------+------+-------------+-------+-----+-----+\n",
      "|100010|     F| free|   NextSong|   200|1038991392000|      0|    0|    1|\n",
      "|100010|     F| free|   NextSong|   200|1038991618000|      0|    0|    1|\n",
      "|100010|     F| free|   NextSong|   200|1038991903000|      0|    0|    1|\n",
      "|100010|     F| free|   NextSong|   200|1038992139000|      0|    0|    1|\n",
      "|100010|     F| free|   NextSong|   200|1038992389000|      0|    0|    1|\n",
      "|100010|     F| free|   NextSong|   200|1038992616000|      0|    0|    1|\n",
      "|100010|     F| free|   NextSong|   200|1038992797000|      0|    0|    1|\n",
      "|100010|     F| free|   NextSong|   200|1038993064000|      0|    0|    1|\n",
      "|100010|     F| free|Roll Advert|   200|1038993076000|      0|    0|    1|\n",
      "|100010|     F| free|   NextSong|   200|1038993312000|      0|    0|    1|\n",
      "|100010|     F| free|   NextSong|   200|1038993485000|      0|    0|    1|\n",
      "|100010|     F| free|       Home|   200|1038993496000|      0|    0|    1|\n",
      "|100010|     F| free|   NextSong|   200|1038993687000|      0|    0|    1|\n",
      "|100010|     F| free|   NextSong|   200|1038994042000|      0|    0|    1|\n",
      "|100010|     F| free|Roll Advert|   200|1038994047000|      0|    0|    1|\n",
      "|100010|     F| free|   NextSong|   200|1038994300000|      0|    0|    1|\n",
      "|100010|     F| free|   NextSong|   200|1038994559000|      0|    0|    1|\n",
      "|100010|     F| free|   NextSong|   200|1038994798000|      0|    0|    1|\n",
      "|100010|     F| free|   NextSong|   200|1038995085000|      0|    0|    1|\n",
      "|100010|     F| free|   NextSong|   200|1038995245000|      0|    0|    1|\n",
      "+------+------+-----+-----------+------+-------------+-------+-----+-----+\n",
      "only showing top 20 rows\n",
      "\n"
     ]
    }
   ],
   "source": [
    "df_churn.select([\"userId\", \"gender\", \"level\", \"page\", \"status\", \"ts\", \"churned\", \"phase\", \"churn\"]).show(20)"
   ]
  },
  {
   "cell_type": "code",
   "execution_count": 49,
   "metadata": {},
   "outputs": [
    {
     "name": "stdout",
     "output_type": "stream",
     "text": [
      "churned user count: 99 (total: 2806775)\n",
      "churned user rate: 0.0035%\n"
     ]
    }
   ],
   "source": [
    "churned_user_count = df_churn.filter(df_churn[\"churn\"] == 1).select(\"userId\").dropDuplicates().count()\n",
    "print(\"churned user count: {} (total: {})\".format(churned_user_count, df_churn.count()))\n",
    "print(\"churned user rate: {:.4f}%\".format(churned_user_count / df_churn.count() * 100))"
   ]
  },
  {
   "cell_type": "markdown",
   "metadata": {},
   "source": [
    "# III. Khai phá dữ liệu\n",
    "\n",
    "Explore Data: So sách giữa 2 nhóm churned users và not churned users\n",
    "=> Có sự khác biệt nào giữa 2 nhóm này\n",
    "\n",
    "Các cột sẽ được kiểm tra:\n",
    "- artist: Số lượng artist\n",
    "- ### gender: Convert về 0 và 1 ###\n",
    "- length: Tổng length\n",
    "- Level: Convert về 0 và 1\n",
    "- page: \n",
    "+ Số lượng Thumbs Up\n",
    "+ Số lượng Thumbs Down\n",
    "- song: Số lượng bài hát"
   ]
  },
  {
   "cell_type": "markdown",
   "metadata": {},
   "source": [
    "#### Convert churn(0 or 1) thành Not Churn or Churn ####\n",
    "- Cả matplotlib + seaborn đều yêu cầu pandas dataframe(chứ không phải là pyspark dataframe) => Cần convert\n",
    "//Chuyển đổi từng phần nhỏ dữ liệu (Tránh việc chuyển all dataset -> mất time + lỗi)"
   ]
  },
  {
   "cell_type": "code",
   "execution_count": 50,
   "metadata": {},
   "outputs": [],
   "source": [
    "func_churn_label = udf(lambda x: 'Churn' if x == 1 else 'Not Churn')"
   ]
  },
  {
   "cell_type": "code",
   "execution_count": 51,
   "metadata": {},
   "outputs": [],
   "source": [
    "df_churn_user = df_churn.groupby(\"userId\").max(\"churn\").withColumnRenamed(\"max(churn)\", \"churn\").select([\"userId\", \"churn\"])"
   ]
  },
  {
   "cell_type": "markdown",
   "metadata": {},
   "source": [
    "##### gender #####"
   ]
  },
  {
   "cell_type": "code",
   "execution_count": 52,
   "metadata": {},
   "outputs": [
    {
     "data": {
      "text/html": [
       "<div>\n",
       "<style scoped>\n",
       "    .dataframe tbody tr th:only-of-type {\n",
       "        vertical-align: middle;\n",
       "    }\n",
       "\n",
       "    .dataframe tbody tr th {\n",
       "        vertical-align: top;\n",
       "    }\n",
       "\n",
       "    .dataframe thead th {\n",
       "        text-align: right;\n",
       "    }\n",
       "</style>\n",
       "<table border=\"1\" class=\"dataframe\">\n",
       "  <thead>\n",
       "    <tr style=\"text-align: right;\">\n",
       "      <th></th>\n",
       "      <th>userId</th>\n",
       "      <th>gender</th>\n",
       "      <th>churn</th>\n",
       "    </tr>\n",
       "  </thead>\n",
       "  <tbody>\n",
       "    <tr>\n",
       "      <th>0</th>\n",
       "      <td>100010</td>\n",
       "      <td>F</td>\n",
       "      <td>Churn</td>\n",
       "    </tr>\n",
       "    <tr>\n",
       "      <th>1</th>\n",
       "      <td>100010</td>\n",
       "      <td>F</td>\n",
       "      <td>Churn</td>\n",
       "    </tr>\n",
       "    <tr>\n",
       "      <th>2</th>\n",
       "      <td>100010</td>\n",
       "      <td>F</td>\n",
       "      <td>Churn</td>\n",
       "    </tr>\n",
       "    <tr>\n",
       "      <th>3</th>\n",
       "      <td>100010</td>\n",
       "      <td>F</td>\n",
       "      <td>Churn</td>\n",
       "    </tr>\n",
       "    <tr>\n",
       "      <th>4</th>\n",
       "      <td>100010</td>\n",
       "      <td>F</td>\n",
       "      <td>Churn</td>\n",
       "    </tr>\n",
       "  </tbody>\n",
       "</table>\n",
       "</div>"
      ],
      "text/plain": [
       "   userId gender  churn\n",
       "0  100010      F  Churn\n",
       "1  100010      F  Churn\n",
       "2  100010      F  Churn\n",
       "3  100010      F  Churn\n",
       "4  100010      F  Churn"
      ]
     },
     "execution_count": 52,
     "metadata": {},
     "output_type": "execute_result"
    }
   ],
   "source": [
    "pd_gender = df_churn.select([\"userId\", \"gender\", \"churn\"]).withColumn(\"churn\", func_churn_label(\"churn\")).toPandas()\n",
    "pd_gender.head()"
   ]
  },
  {
   "cell_type": "code",
   "execution_count": 53,
   "metadata": {},
   "outputs": [
    {
     "data": {
      "image/png": "[encoded data removed]",
      "text/plain": [
       "<Figure size 432x288 with 1 Axes>"
      ]
     },
     "metadata": {
      "needs_background": "light"
     },
     "output_type": "display_data"
    }
   ],
   "source": [
    "sns.countplot(x=\"gender\", hue=\"churn\", data=pd_gender);"
   ]
  },
  {
   "cell_type": "markdown",
   "metadata": {},
   "source": [
    "##### level #####"
   ]
  },
  {
   "cell_type": "code",
   "execution_count": 54,
   "metadata": {},
   "outputs": [
    {
     "data": {
      "text/html": [
       "<div>\n",
       "<style scoped>\n",
       "    .dataframe tbody tr th:only-of-type {\n",
       "        vertical-align: middle;\n",
       "    }\n",
       "\n",
       "    .dataframe tbody tr th {\n",
       "        vertical-align: top;\n",
       "    }\n",
       "\n",
       "    .dataframe thead th {\n",
       "        text-align: right;\n",
       "    }\n",
       "</style>\n",
       "<table border=\"1\" class=\"dataframe\">\n",
       "  <thead>\n",
       "    <tr style=\"text-align: right;\">\n",
       "      <th></th>\n",
       "      <th>userId</th>\n",
       "      <th>level</th>\n",
       "      <th>churn</th>\n",
       "    </tr>\n",
       "  </thead>\n",
       "  <tbody>\n",
       "    <tr>\n",
       "      <th>0</th>\n",
       "      <td>100010</td>\n",
       "      <td>free</td>\n",
       "      <td>Churn</td>\n",
       "    </tr>\n",
       "    <tr>\n",
       "      <th>1</th>\n",
       "      <td>100010</td>\n",
       "      <td>free</td>\n",
       "      <td>Churn</td>\n",
       "    </tr>\n",
       "    <tr>\n",
       "      <th>2</th>\n",
       "      <td>100010</td>\n",
       "      <td>free</td>\n",
       "      <td>Churn</td>\n",
       "    </tr>\n",
       "    <tr>\n",
       "      <th>3</th>\n",
       "      <td>100010</td>\n",
       "      <td>free</td>\n",
       "      <td>Churn</td>\n",
       "    </tr>\n",
       "    <tr>\n",
       "      <th>4</th>\n",
       "      <td>100010</td>\n",
       "      <td>free</td>\n",
       "      <td>Churn</td>\n",
       "    </tr>\n",
       "  </tbody>\n",
       "</table>\n",
       "</div>"
      ],
      "text/plain": [
       "   userId level  churn\n",
       "0  100010  free  Churn\n",
       "1  100010  free  Churn\n",
       "2  100010  free  Churn\n",
       "3  100010  free  Churn\n",
       "4  100010  free  Churn"
      ]
     },
     "execution_count": 54,
     "metadata": {},
     "output_type": "execute_result"
    }
   ],
   "source": [
    "pd_level = df_churn.select([\"userId\", \"level\", \"churn\"]).withColumn(\"churn\", func_churn_label(\"churn\")).toPandas()\n",
    "pd_level.head()"
   ]
  },
  {
   "cell_type": "code",
   "execution_count": 55,
   "metadata": {},
   "outputs": [
    {
     "data": {
      "image/png": "[encoded data removed]",
      "text/plain": [
       "<Figure size 432x288 with 1 Axes>"
      ]
     },
     "metadata": {
      "needs_background": "light"
     },
     "output_type": "display_data"
    }
   ],
   "source": [
    "sns.countplot(x=\"level\", hue=\"churn\", data=pd_level);"
   ]
  },
  {
   "cell_type": "markdown",
   "metadata": {},
   "source": [
    "##### total song #####"
   ]
  },
  {
   "cell_type": "code",
   "execution_count": 56,
   "metadata": {},
   "outputs": [
    {
     "data": {
      "text/html": [
       "<div>\n",
       "<style scoped>\n",
       "    .dataframe tbody tr th:only-of-type {\n",
       "        vertical-align: middle;\n",
       "    }\n",
       "\n",
       "    .dataframe tbody tr th {\n",
       "        vertical-align: top;\n",
       "    }\n",
       "\n",
       "    .dataframe thead th {\n",
       "        text-align: right;\n",
       "    }\n",
       "</style>\n",
       "<table border=\"1\" class=\"dataframe\">\n",
       "  <thead>\n",
       "    <tr style=\"text-align: right;\">\n",
       "      <th></th>\n",
       "      <th>userId</th>\n",
       "      <th>churn</th>\n",
       "      <th>song_count</th>\n",
       "    </tr>\n",
       "  </thead>\n",
       "  <tbody>\n",
       "    <tr>\n",
       "      <th>0</th>\n",
       "      <td>100010</td>\n",
       "      <td>Churn</td>\n",
       "      <td>480</td>\n",
       "    </tr>\n",
       "    <tr>\n",
       "      <th>1</th>\n",
       "      <td>200002</td>\n",
       "      <td>Churn</td>\n",
       "      <td>1550</td>\n",
       "    </tr>\n",
       "    <tr>\n",
       "      <th>2</th>\n",
       "      <td>296</td>\n",
       "      <td>Churn</td>\n",
       "      <td>672</td>\n",
       "    </tr>\n",
       "    <tr>\n",
       "      <th>3</th>\n",
       "      <td>125</td>\n",
       "      <td>Not Churn</td>\n",
       "      <td>368</td>\n",
       "    </tr>\n",
       "    <tr>\n",
       "      <th>4</th>\n",
       "      <td>124</td>\n",
       "      <td>Churn</td>\n",
       "      <td>10302</td>\n",
       "    </tr>\n",
       "  </tbody>\n",
       "</table>\n",
       "</div>"
      ],
      "text/plain": [
       "   userId      churn  song_count\n",
       "0  100010      Churn         480\n",
       "1  200002      Churn        1550\n",
       "2     296      Churn         672\n",
       "3     125  Not Churn         368\n",
       "4     124      Churn       10302"
      ]
     },
     "execution_count": 56,
     "metadata": {},
     "output_type": "execute_result"
    }
   ],
   "source": [
    "pd_song = df_churn_user.join(df_churn.groupby(\"userId\") \\\n",
    "                                     .agg({\"song\": \"count\"}) \\\n",
    "                                     .withColumnRenamed(\"count(song)\", \"song_count\"), [\"userId\"]) \\\n",
    "                       .withColumn(\"churn\", func_churn_label(\"churn\")).toPandas()\n",
    "pd_song.head()"
   ]
  },
  {
   "cell_type": "code",
   "execution_count": 57,
   "metadata": {},
   "outputs": [
    {
     "data": {
      "image/png": "[encoded data removed]",
      "text/plain": [
       "<Figure size 432x288 with 1 Axes>"
      ]
     },
     "metadata": {
      "needs_background": "light"
     },
     "output_type": "display_data"
    }
   ],
   "source": [
    "sns.boxplot(x=\"churn\", y=\"song_count\", data=pd_song);"
   ]
  },
  {
   "cell_type": "markdown",
   "metadata": {},
   "source": [
    "### More info: https://github.com/huymq1710\n",
    "\n",
    "* Install HDFS and Yarn multi node:  \n",
    "https://github.com/huymq1710/HDFS-MultiNode\n",
    "\n",
    "https://medium.com/@jootorres_11979/how-to-set-up-a-hadoop-3-2-1-multi-node-cluster-on-ubuntu-18-04-2-nodes-567ca44a3b12\n",
    "\n",
    "* Install Spark cluster Yarn mode\n",
    "https://www.linode.com/docs/databases/hadoop/install-configure-run-spark-on-top-of-hadoop-yarn-cluster/\n",
    "\n",
    "* Install Zeppelin for Spark, set up for Spark Yarn mode\n",
    "https://medium.com/@shehanfernando/zeppelin-on-spark-cluster-6732d8eb1b59\n",
    "\n",
    "\n"
   ]
  },
  {
   "cell_type": "markdown",
   "metadata": {},
   "source": [
    "![title](https://wompampsupport.azureedge.net/fetchimage?siteId=7575&v=2&jpgQuality=100&width=700&url=https%3A%2F%2Fi.kym-cdn.com%2Fentries%2Ficons%2Ffacebook%2F000%2F019%2F907%2Fmaxresdefault.jpg)"
   ]
  },
  {
   "cell_type": "code",
   "execution_count": null,
   "metadata": {},
   "outputs": [],
   "source": []
  }
 ],
 "metadata": {
  "kernelspec": {
   "display_name": "Python 3",
   "language": "python",
   "name": "python3"
  },
  "language_info": {
   "codemirror_mode": {
    "name": "ipython",
    "version": 3
   },
   "file_extension": ".py",
   "mimetype": "text/x-python",
   "name": "python",
   "nbconvert_exporter": "python",
   "pygments_lexer": "ipython3",
   "version": "3.8.5"
  }
 },
 "nbformat": 4,
 "nbformat_minor": 4
}
